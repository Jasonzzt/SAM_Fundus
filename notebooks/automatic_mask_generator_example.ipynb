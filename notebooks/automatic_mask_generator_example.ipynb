version https://git-lfs.github.com/spec/v1
oid sha256:c89dd01d053a2af9c05572ccd15985098945d96bf5471df1c85e442c9a4d23b4
size 106389122
